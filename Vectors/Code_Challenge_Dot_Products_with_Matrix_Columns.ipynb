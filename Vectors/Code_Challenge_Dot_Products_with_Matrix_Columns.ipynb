{
 "cells": [
  {
   "cell_type": "markdown",
   "metadata": {},
   "source": [
    "# Code Challenge: Dot Products with Matrix Columns"
   ]
  },
  {
   "cell_type": "code",
   "execution_count": null,
   "metadata": {},
   "outputs": [],
   "source": [
    "import numpy as np\n",
    "import matplotlib.pyplot as plt"
   ]
  },
  {
   "cell_type": "code",
   "execution_count": null,
   "metadata": {},
   "outputs": [],
   "source": [
    "A = np.random.randn(4, 6)\n",
    "B = np.random.randn(4, 6)"
   ]
  },
  {
   "cell_type": "code",
   "execution_count": null,
   "metadata": {},
   "outputs": [
    {
     "name": "stdout",
     "output_type": "stream",
     "text": [
      "[[-0.72790159 -2.66326035  1.05402301 -0.31025713  0.10791843 -1.2450523 ]\n",
      " [ 0.87748508 -0.40708225 -1.01342321 -0.42869765  0.21303149 -0.62260463]\n",
      " [ 0.73579087 -0.23522011  0.67398707 -1.13609262 -1.68653097  1.71297279]\n",
      " [-1.54569556 -0.34267318 -0.52212086 -0.24842306 -0.62207457 -1.21928409]]\n",
      "[[ 0.87599234  1.0841368  -1.21941002  1.36387199  0.19490697 -0.54826104]\n",
      " [-0.23635137 -1.16862602  1.10440696 -1.09296592 -0.83411638  0.87926669]\n",
      " [-0.00772843 -0.28788866  0.74987542 -1.97970866  0.63915545  0.6892784 ]\n",
      " [-0.74464679  0.0506128   1.2541215  -0.62687952  1.01274578 -1.46701304]]\n"
     ]
    }
   ],
   "source": [
    "print(A)\n",
    "print(B)"
   ]
  },
  {
   "cell_type": "code",
   "execution_count": null,
   "metadata": {},
   "outputs": [
    {
     "name": "stdout",
     "output_type": "stream",
     "text": [
      "0.30027972263174474\n",
      "-2.361238084226512\n",
      "-2.5539145059251833\n",
      "2.45026463612104\n",
      "-1.8646178643324594\n",
      "3.1045989517279953\n"
     ]
    }
   ],
   "source": [
    "for i in range(6):\n",
    "    res = np.dot(A[:, i], B[:, i])\n",
    "    print(res)"
   ]
  }
 ],
 "metadata": {
  "language_info": {
   "name": "python"
  }
 },
 "nbformat": 4,
 "nbformat_minor": 2
}
