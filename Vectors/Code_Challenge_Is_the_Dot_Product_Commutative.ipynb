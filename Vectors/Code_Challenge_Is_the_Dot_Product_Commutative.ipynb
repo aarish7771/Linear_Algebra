{
 "cells": [
  {
   "cell_type": "markdown",
   "metadata": {},
   "source": [
    "# Code Challenge: Is the dot product commutative"
   ]
  },
  {
   "cell_type": "code",
   "execution_count": 4,
   "metadata": {},
   "outputs": [],
   "source": [
    "import numpy as np"
   ]
  },
  {
   "cell_type": "markdown",
   "metadata": {},
   "source": [
    "Part - 1"
   ]
  },
  {
   "cell_type": "code",
   "execution_count": 7,
   "metadata": {},
   "outputs": [
    {
     "name": "stdout",
     "output_type": "stream",
     "text": [
      "5.743662150623994\n",
      "5.743662150623994\n"
     ]
    }
   ],
   "source": [
    "a = np.random.randn(100)\n",
    "b = np.random.randn(100)\n",
    "\n",
    "ans1 = np.dot(a, b)\n",
    "ans2 = np.dot(b, a)\n",
    "\n",
    "print(ans1)\n",
    "print(ans2)"
   ]
  },
  {
   "cell_type": "markdown",
   "metadata": {},
   "source": [
    "Part - 2"
   ]
  },
  {
   "cell_type": "code",
   "execution_count": 9,
   "metadata": {},
   "outputs": [
    {
     "name": "stdout",
     "output_type": "stream",
     "text": [
      "[5 4]\n",
      "[6 7]\n",
      "[5 4]\n",
      "[6 7]\n",
      "[30 28]\n",
      "[30 28]\n"
     ]
    }
   ],
   "source": [
    "X = [5, 4]\n",
    "Y = [6, 7]\n",
    "\n",
    "A = np.array(X)\n",
    "B = np.array(Y)\n",
    "\n",
    "At = np.transpose(A)\n",
    "Bt = np.transpose(B)\n",
    "\n",
    "print(A)\n",
    "print(B)\n",
    "print(At)\n",
    "print(Bt)\n",
    "\n",
    "res1 = At*B\n",
    "res2 = A*Bt\n",
    "\n",
    "print(res1)\n",
    "print(res2)"
   ]
  }
 ],
 "metadata": {
  "kernelspec": {
   "display_name": "Python 3",
   "language": "python",
   "name": "python3"
  },
  "language_info": {
   "codemirror_mode": {
    "name": "ipython",
    "version": 3
   },
   "file_extension": ".py",
   "mimetype": "text/x-python",
   "name": "python",
   "nbconvert_exporter": "python",
   "pygments_lexer": "ipython3",
   "version": "3.9.7"
  }
 },
 "nbformat": 4,
 "nbformat_minor": 2
}
