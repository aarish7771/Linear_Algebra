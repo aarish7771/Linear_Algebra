{
 "cells": [
  {
   "cell_type": "markdown",
   "metadata": {},
   "source": [
    "## Code Challenge: Dot Products with Unit Vectors"
   ]
  },
  {
   "cell_type": "markdown",
   "metadata": {},
   "source": [
    "#Create two random integer vectors (R4)\n",
    "\n",
    "#Compute the lenghts of the individual vectors and the magnitude of their dot products\n",
    "\n",
    "#\"normalize\" the vectors\n",
    "\n",
    "#Compute the magnitude of their dot product "
   ]
  },
  {
   "cell_type": "code",
   "execution_count": 1,
   "metadata": {},
   "outputs": [],
   "source": [
    "import numpy as np  "
   ]
  },
  {
   "cell_type": "code",
   "execution_count": 2,
   "metadata": {},
   "outputs": [
    {
     "name": "stdout",
     "output_type": "stream",
     "text": [
      "40.27406113120453 47.20169488482379 1230.0\n",
      " \n",
      "[ 0.37244816  0.79455608 -0.44693779  0.17380914] [ 0.04237136 -0.25422816  0.93216992 -0.25422816]\n",
      " \n",
      "0.6470265372404309\n"
     ]
    }
   ],
   "source": [
    "n = 4\n",
    "v1 = np.round(20*np.random.randn(n))\n",
    "v2 = np.round(20*np.random.randn(n))\n",
    "\n",
    "v1m = np.sqrt(np.dot(v1, v1))\n",
    "v2m = np.sqrt(np.dot(v2, v2))\n",
    "dpm = np.abs(np.dot(v1, v2))\n",
    "print(v1m, v2m, dpm)\n",
    "print(\" \")\n",
    "\n",
    "v1u = v1/v1m\n",
    "v2u = v2/v2m\n",
    "print(v1u, v2u)\n",
    "print(\" \")\n",
    "\n",
    "dp = np.abs(np.dot(v1u, v2u))\n",
    "print(dp)\n",
    "\n"
   ]
  }
 ],
 "metadata": {
  "kernelspec": {
   "display_name": "Python 3",
   "language": "python",
   "name": "python3"
  },
  "language_info": {
   "codemirror_mode": {
    "name": "ipython",
    "version": 3
   },
   "file_extension": ".py",
   "mimetype": "text/x-python",
   "name": "python",
   "nbconvert_exporter": "python",
   "pygments_lexer": "ipython3",
   "version": "3.9.7"
  }
 },
 "nbformat": 4,
 "nbformat_minor": 2
}
