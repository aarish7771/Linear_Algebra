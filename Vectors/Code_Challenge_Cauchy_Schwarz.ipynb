{
 "cells": [
  {
   "cell_type": "markdown",
   "metadata": {},
   "source": [
    "Code Challenge : Cauchy-Schwarz"
   ]
  },
  {
   "cell_type": "code",
   "execution_count": 3,
   "metadata": {},
   "outputs": [
    {
     "name": "stdout",
     "output_type": "stream",
     "text": [
      "[-2.21627314 -0.4450577   0.94174896 -1.07912554 -0.36453781]\n",
      "[ 1.08336841  0.21447606 -0.27879556 -0.69029559  1.17636693]\n",
      "[-0.72089189 -0.14476487  0.30632469 -0.35100947 -0.11857399]\n"
     ]
    }
   ],
   "source": [
    "import numpy as np\n",
    "\n",
    "# Create 3 vectors\n",
    "a = np.random.randn(5)\n",
    "b = np.random.randn(5)\n",
    "c = np.random.randn(1)*a\n",
    "\n",
    "print(a)\n",
    "print(b)\n",
    "print(c)"
   ]
  },
  {
   "cell_type": "code",
   "execution_count": 4,
   "metadata": {},
   "outputs": [
    {
     "name": "stdout",
     "output_type": "stream",
     "text": [
      "2.442964577282923  4.799317523524734\n",
      "2.372611004890176  2.3726110048901754\n"
     ]
    }
   ],
   "source": [
    "prod1 = abs(np.dot(a,b))\n",
    "p1 = np.linalg.norm(a)*np.linalg.norm(b)\n",
    "print(f\"{prod1}  {p1}\")\n",
    "\n",
    "prod2 = abs(np.dot(a,c))\n",
    "p2 = np.linalg.norm(a)*np.linalg.norm(c)\n",
    "print(f\"{prod2}  {p2}\")"
   ]
  }
 ],
 "metadata": {
  "kernelspec": {
   "display_name": "Python 3",
   "language": "python",
   "name": "python3"
  },
  "language_info": {
   "codemirror_mode": {
    "name": "ipython",
    "version": 3
   },
   "file_extension": ".py",
   "mimetype": "text/x-python",
   "name": "python",
   "nbconvert_exporter": "python",
   "pygments_lexer": "ipython3",
   "version": "3.9.7"
  }
 },
 "nbformat": 4,
 "nbformat_minor": 2
}
