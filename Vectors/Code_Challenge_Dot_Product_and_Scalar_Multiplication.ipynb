{
 "cells": [
  {
   "cell_type": "markdown",
   "metadata": {},
   "source": [
    "Code Challenge : Dot product sign and scalar multiplication "
   ]
  },
  {
   "cell_type": "markdown",
   "metadata": {},
   "source": [
    "### Test whether the dot product sign is invariant to scalar multiplication\n",
    "\n",
    "### Generate Two vectors (R3)\n",
    "\n",
    "### Generate Two scalars\n",
    "\n",
    "### Compute the dot product between the two vectors\n",
    "\n",
    "### Compute the dot product between the two scaled vectors"
   ]
  },
  {
   "cell_type": "code",
   "execution_count": 1,
   "metadata": {},
   "outputs": [],
   "source": [
    "import numpy as np"
   ]
  },
  {
   "cell_type": "code",
   "execution_count": 4,
   "metadata": {},
   "outputs": [
    {
     "name": "stdout",
     "output_type": "stream",
     "text": [
      "Original dot product :0\n",
      "Scaled dot product :0\n"
     ]
    }
   ],
   "source": [
    "v1 = np.array([-3, 4, 5])\n",
    "v2 = np.array([3, 6, -3])\n",
    "\n",
    "s1 = 2\n",
    "s2 = 3\n",
    "\n",
    "print('Original dot product :' + str(np.dot(v1,v2)))\n",
    "print('Scaled dot product :' + str(np.dot(s1*v1,s2*v2)))"
   ]
  },
  {
   "cell_type": "code",
   "execution_count": 5,
   "metadata": {},
   "outputs": [
    {
     "name": "stdout",
     "output_type": "stream",
     "text": [
      "Original dot product :-3\n",
      "Scaled dot product :-18\n"
     ]
    }
   ],
   "source": [
    "v1 = np.array([-3, 4, 6])\n",
    "v2 = np.array([3, 6, -3])\n",
    "\n",
    "s1 = 2\n",
    "s3 = 3\n",
    "\n",
    "print('Original dot product :' + str(np.dot(v1,v2)))\n",
    "print('Scaled dot product :' + str(np.dot(s1*v1,s2*v2)))"
   ]
  },
  {
   "cell_type": "code",
   "execution_count": 7,
   "metadata": {},
   "outputs": [
    {
     "name": "stdout",
     "output_type": "stream",
     "text": [
      "Original dot product :-3\n",
      "Scaled dot product :18\n"
     ]
    }
   ],
   "source": [
    "v1 = np.array([-3, 4, 6])\n",
    "v2 = np.array([3, 6, -3])\n",
    "\n",
    "s1 = -2\n",
    "s3 = 3\n",
    "\n",
    "print('Original dot product :' + str(np.dot(v1,v2)))\n",
    "print('Scaled dot product :' + str(np.dot(s1*v1,s2*v2)))"
   ]
  }
 ],
 "metadata": {
  "kernelspec": {
   "display_name": "Python 3",
   "language": "python",
   "name": "python3"
  },
  "language_info": {
   "codemirror_mode": {
    "name": "ipython",
    "version": 3
   },
   "file_extension": ".py",
   "mimetype": "text/x-python",
   "name": "python",
   "nbconvert_exporter": "python",
   "pygments_lexer": "ipython3",
   "version": "3.9.7"
  }
 },
 "nbformat": 4,
 "nbformat_minor": 2
}
