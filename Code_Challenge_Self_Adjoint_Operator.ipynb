{
 "cells": [
  {
   "cell_type": "code",
   "execution_count": 1,
   "metadata": {},
   "outputs": [],
   "source": [
    "import numpy as np"
   ]
  },
  {
   "cell_type": "code",
   "execution_count": 2,
   "metadata": {},
   "outputs": [
    {
     "name": "stdout",
     "output_type": "stream",
     "text": [
      "3.552713678800501e-15\n"
     ]
    }
   ],
   "source": [
    "m = 5\n",
    "\n",
    "# Create a square matrix\n",
    "Asq = np.random.randn(m, m)\n",
    "\n",
    "# Create a symmetric matrix from the square matrix\n",
    "A = Asq.T@Asq\n",
    "\n",
    "# Create two vectors of dimensions mx1\n",
    "v = np.random.randn(m)\n",
    "w = np.random.randn(m)\n",
    "\n",
    "# Check the condition for self-adjoint operator for A\n",
    "p1 = np.dot(np.dot(A, v), w)\n",
    "p2 = np.dot(v, np.dot(A, w))      \n",
    "\n",
    "print(p1-p2)"
   ]
  }
 ],
 "metadata": {
  "kernelspec": {
   "display_name": "base",
   "language": "python",
   "name": "python3"
  },
  "language_info": {
   "codemirror_mode": {
    "name": "ipython",
    "version": 3
   },
   "file_extension": ".py",
   "mimetype": "text/x-python",
   "name": "python",
   "nbconvert_exporter": "python",
   "pygments_lexer": "ipython3",
   "version": "3.11.7"
  }
 },
 "nbformat": 4,
 "nbformat_minor": 2
}
