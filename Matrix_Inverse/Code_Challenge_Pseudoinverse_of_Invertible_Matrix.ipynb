{
 "cells": [
  {
   "cell_type": "markdown",
   "metadata": {},
   "source": [
    "# Code Challenge: Pseudoinverse of Invertible Matrices"
   ]
  },
  {
   "cell_type": "code",
   "execution_count": 3,
   "metadata": {},
   "outputs": [
    {
     "name": "stdout",
     "output_type": "stream",
     "text": [
      "Rank =  5\n",
      "[[ 8.32667268e-17  5.55111512e-17  0.00000000e+00 -5.55111512e-17\n",
      "  -2.77555756e-17]\n",
      " [ 3.33066907e-16 -1.66533454e-16 -5.55111512e-17  1.11022302e-16\n",
      "   3.33066907e-16]\n",
      " [ 0.00000000e+00  0.00000000e+00 -3.46944695e-18  0.00000000e+00\n",
      "   4.16333634e-16]\n",
      " [ 2.77555756e-16  4.16333634e-17 -2.77555756e-16 -5.55111512e-17\n",
      "  -1.04083409e-17]\n",
      " [-1.38777878e-16  3.05311332e-16  2.22044605e-16 -2.49800181e-16\n",
      "   0.00000000e+00]]\n"
     ]
    },
    {
     "data": {
      "image/png": "[encoded data removed]",
      "text/plain": [
       "<Figure size 640x480 with 3 Axes>"
      ]
     },
     "metadata": {},
     "output_type": "display_data"
    }
   ],
   "source": [
    "import numpy as np\n",
    "import matplotlib.pyplot as plt\n",
    "\n",
    "# To check whether the Pseudoinverse and the True Inverse are the same for an Invertible Matrix\n",
    "\n",
    "m = 5\n",
    "A = np.random.randn(m, m)\n",
    "\n",
    "r = np.linalg.matrix_rank(A)\n",
    "print(\"Rank = \", r)\n",
    "\n",
    "TrInv = np.linalg.inv(A)\n",
    "PInv = np.linalg.pinv(A)\n",
    "\n",
    "print(TrInv - PInv)\n",
    "\n",
    "plt.subplot(131)\n",
    "plt.imshow(A), plt.axis('off')\n",
    "plt.title('A')\n",
    "\n",
    "plt.subplot(132)\n",
    "plt.imshow(TrInv), plt.axis('off')\n",
    "plt.title('True Inverse of A')\n",
    "\n",
    "plt.subplot(133)\n",
    "plt.imshow(PInv), plt.axis('off')\n",
    "plt.title('Pseudoinverse of A')\n",
    "\n",
    "plt.show()"
   ]
  }
 ],
 "metadata": {
  "kernelspec": {
   "display_name": "base",
   "language": "python",
   "name": "python3"
  },
  "language_info": {
   "codemirror_mode": {
    "name": "ipython",
    "version": 3
   },
   "file_extension": ".py",
   "mimetype": "text/x-python",
   "name": "python",
   "nbconvert_exporter": "python",
   "pygments_lexer": "ipython3",
   "version": "3.11.7"
  }
 },
 "nbformat": 4,
 "nbformat_minor": 2
}
