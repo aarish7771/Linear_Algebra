{
 "cells": [
  {
   "cell_type": "markdown",
   "metadata": {},
   "source": [
    "# Code Challenge: Diagonal Matrices and their Inverses"
   ]
  },
  {
   "cell_type": "code",
   "execution_count": 6,
   "metadata": {},
   "outputs": [
    {
     "name": "stdout",
     "output_type": "stream",
     "text": [
      "[[2 0]\n",
      " [0 3]]\n",
      " \n",
      "[[1 0 0 0 0]\n",
      " [0 2 0 0 0]\n",
      " [0 0 3 0 0]\n",
      " [0 0 0 4 0]\n",
      " [0 0 0 0 5]]\n",
      " \n",
      "[[0.5        0.        ]\n",
      " [0.         0.33333333]]\n",
      " \n",
      "[[ 1.          0.          0.          0.          0.        ]\n",
      " [ 0.          0.5         0.          0.          0.        ]\n",
      " [ 0.          0.          0.33333333  0.          0.        ]\n",
      " [-0.         -0.         -0.          0.25       -0.        ]\n",
      " [ 0.          0.          0.          0.          0.2       ]]\n",
      " \n",
      "[[1. 0.]\n",
      " [0. 1.]]\n",
      " \n",
      "[[1. 0. 0. 0. 0.]\n",
      " [0. 1. 0. 0. 0.]\n",
      " [0. 0. 1. 0. 0.]\n",
      " [0. 0. 0. 1. 0.]\n",
      " [0. 0. 0. 0. 1.]]\n"
     ]
    }
   ],
   "source": [
    "import numpy as np\n",
    "\n",
    "# Create some diagonal matrices, start with 2x2 integers, work up to large matrices\n",
    "# Compute their inverses (condition on the diagonal matrix for invertibility)\n",
    "\n",
    "A = np.array([[2, 0], [0, 3]])\n",
    "B = np.diag(np.arange(1, 6))\n",
    "print(A)\n",
    "print(\" \")\n",
    "print(B)\n",
    "print(\" \")\n",
    "\n",
    "Ainv = np.linalg.inv(A)\n",
    "Binv = np.linalg.inv(B)\n",
    "print(Ainv)\n",
    "print(\" \")\n",
    "print(Binv)\n",
    "print(\" \")\n",
    "print(A@Ainv)\n",
    "print(\" \")\n",
    "print(B@Binv)"
   ]
  }
 ],
 "metadata": {
  "kernelspec": {
   "display_name": "base",
   "language": "python",
   "name": "python3"
  },
  "language_info": {
   "codemirror_mode": {
    "name": "ipython",
    "version": 3
   },
   "file_extension": ".py",
   "mimetype": "text/x-python",
   "name": "python",
   "nbconvert_exporter": "python",
   "pygments_lexer": "ipython3",
   "version": "3.11.7"
  }
 },
 "nbformat": 4,
 "nbformat_minor": 2
}
