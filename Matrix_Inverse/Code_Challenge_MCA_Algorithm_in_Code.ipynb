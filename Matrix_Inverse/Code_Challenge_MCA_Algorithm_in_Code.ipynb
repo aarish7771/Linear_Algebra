{
 "cells": [
  {
   "cell_type": "markdown",
   "metadata": {},
   "source": [
    "# Code Challenge: MCA Algorithm in Code"
   ]
  },
  {
   "cell_type": "code",
   "execution_count": 6,
   "metadata": {},
   "outputs": [
    {
     "name": "stdout",
     "output_type": "stream",
     "text": [
      "[[-0.36059758 -0.34565458  0.21575656 -0.41428809]\n",
      " [-0.64938143  0.10731946  0.42465081 -0.24909419]\n",
      " [ 0.20786994  0.22870454 -0.15808102 -0.14291274]\n",
      " [-0.29156302 -0.02704224 -0.44056032  0.29846114]]\n",
      " \n",
      "[[ 1.00000000e+00  5.55111512e-17 -2.22044605e-16 -4.85722573e-17]\n",
      " [ 8.32667268e-17  1.00000000e+00  0.00000000e+00  3.12250226e-16]\n",
      " [-1.66533454e-16  5.55111512e-17  1.00000000e+00 -1.00613962e-16]\n",
      " [ 5.55111512e-17 -6.59194921e-17  1.11022302e-16  1.00000000e+00]]\n",
      " \n",
      "[[-1.11022302e-16 -5.55111512e-17  0.00000000e+00  0.00000000e+00]\n",
      " [ 0.00000000e+00 -1.38777878e-17  1.11022302e-16  5.55111512e-17]\n",
      " [ 5.55111512e-17 -2.77555756e-17 -8.32667268e-17 -5.55111512e-17]\n",
      " [-5.55111512e-17  2.08166817e-17 -5.55111512e-17  5.55111512e-17]]\n"
     ]
    }
   ],
   "source": [
    "import numpy as np\n",
    "\n",
    "# Compute the inverse using np.linalg.inv(), compare with your implementation of MCA\n",
    "\n",
    "m = 4\n",
    "A = np.random.randn(m, m)\n",
    "\n",
    "# Initialise the Minors and H Matrix\n",
    "minors = np.zeros((m, m))\n",
    "H = np.zeros((m, m))\n",
    "\n",
    "for i in range(m):\n",
    "    for j in range(m):\n",
    "        # Select the rows and columns\n",
    "        rows = [True]*m\n",
    "        rows[i] = False\n",
    "\n",
    "        cols = [True]*m\n",
    "        cols[j] = False\n",
    "\n",
    "        # Compute the Minors Matrix\n",
    "        minors[i, j] = np.linalg.det(A[rows,:][:,cols])\n",
    "\n",
    "        # Compute the H Matrix\n",
    "        H[i, j] = (-1)**(i+j)\n",
    "\n",
    "# Cofactors Matrix Computation\n",
    "cofactors = minors*H\n",
    "\n",
    "Ainv = cofactors.T / np.linalg.det(A)\n",
    "print(Ainv)\n",
    "print(\" \")\n",
    "\n",
    "print(Ainv@A)\n",
    "print(\" \")\n",
    "\n",
    "Ainv2 = np.linalg.inv(A)\n",
    "print(Ainv2 - Ainv)"
   ]
  }
 ],
 "metadata": {
  "kernelspec": {
   "display_name": "base",
   "language": "python",
   "name": "python3"
  },
  "language_info": {
   "codemirror_mode": {
    "name": "ipython",
    "version": 3
   },
   "file_extension": ".py",
   "mimetype": "text/x-python",
   "name": "python",
   "nbconvert_exporter": "python",
   "pygments_lexer": "ipython3",
   "version": "3.11.7"
  }
 },
 "nbformat": 4,
 "nbformat_minor": 2
}
