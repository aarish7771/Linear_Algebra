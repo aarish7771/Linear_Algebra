{
 "cells": [
  {
   "cell_type": "code",
   "execution_count": 1,
   "metadata": {},
   "outputs": [],
   "source": [
    "import numpy as np\n",
    "from sympy import *\n",
    "import matplotlib.pyplot as plt"
   ]
  },
  {
   "cell_type": "code",
   "execution_count": 4,
   "metadata": {},
   "outputs": [
    {
     "name": "stdout",
     "output_type": "stream",
     "text": [
      "Shape of A^TA: (3, 3)\n",
      "Rank of A^TA: 3\n",
      "Shape of AA^T: (6, 6)\n",
      "Rank of AA^T: 3\n",
      "[[ 1.00000000e+00  5.55111512e-16  2.77555756e-17]\n",
      " [ 6.66133815e-16  1.00000000e+00 -3.88578059e-16]\n",
      " [-4.44089210e-16  1.11022302e-16  1.00000000e+00]]\n",
      " \n",
      "[[ 3.10664119e+00  1.11143109e+00  7.79847900e-01  6.03603345e-02\n",
      "   3.51023376e+00 -4.41269234e-01]\n",
      " [-1.43140409e+00 -4.29458963e-01 -2.84185103e-01 -3.21306031e-01\n",
      "  -2.97016964e+00  9.08910519e-02]\n",
      " [-1.68795831e+00 -6.46176779e-01 -1.41939382e-01 -1.13350760e+00\n",
      "  -5.40127665e-01  1.20023481e-01]\n",
      " [ 2.10896357e-01  3.56034014e-01  1.41617311e-04  2.10343165e-01\n",
      "  -5.00363530e+00 -2.41228299e-01]\n",
      " [ 7.61170221e-02  1.10623360e-01  2.88393415e-01 -1.05041975e+00\n",
      "  -8.71448021e-01 -2.31359425e-01]\n",
      " [ 1.74549854e-01  1.00109536e-01  3.99193982e-01 -1.38480164e+00\n",
      "   2.57369047e-01 -2.53802208e-01]]\n",
      " \n",
      "[[ 1.00000000e+00 -2.04559859e-16 -1.05113168e-16]\n",
      " [ 1.24342367e-15  1.00000000e+00 -1.16973090e-16]\n",
      " [-2.81169346e-16 -2.05163149e-16  1.00000000e+00]]\n",
      " \n",
      "[[ 4.          0.          2.          0.          2.          8.        ]\n",
      " [ 3.         -2.         -1.         -4.          0.5         1.125     ]\n",
      " [ 0.         -4.          0.          0.          4.          0.        ]\n",
      " [ 0.          0.          0.          0.          4.          4.        ]\n",
      " [ 0.         -3.25       -4.         -4.         -2.         -8.        ]\n",
      " [ 0.         -0.25        0.25        0.          0.25        0.56396484]]\n"
     ]
    }
   ],
   "source": [
    "# m>n for left inverse,\n",
    "# m<n for right inverse\n",
    "m = 6\n",
    "n = 3\n",
    "\n",
    "# create matrices\n",
    "A = np.random.randn(m,n)\n",
    "AtA = A.T@A\n",
    "AAt = A@A.T\n",
    "\n",
    "# inspect ranks\n",
    "print('Shape of A^TA:', np.shape(AtA) )\n",
    "print('Rank of A^TA:', np.linalg.matrix_rank(AtA) )\n",
    "print('Shape of AA^T:', np.shape(AAt) )\n",
    "print('Rank of AA^T:', np.linalg.matrix_rank(AAt) ) \n",
    "\n",
    "# left inverse\n",
    "Aleft = np.linalg.inv(AtA)@A.T\n",
    "\n",
    "# right inverse\n",
    "Aright = A.T@np.linalg.inv(AAt)\n",
    "\n",
    "# now test!\n",
    "I_left  = Aleft  @ A\n",
    "I_right = A @ Aright\n",
    "\n",
    "print(I_left), print(' ')\n",
    "print(I_right), print(' ')\n",
    "\n",
    "\n",
    "# and then test using the inverse function\n",
    "AtA_inv = np.linalg.inv(AtA)\n",
    "I_AtA   = AtA_inv @ AtA\n",
    "\n",
    "AAt_inv = np.linalg.inv(AAt)\n",
    "I_AAt   = AAt_inv @ AAt\n",
    "\n",
    "print(I_AtA), print(' ')\n",
    "print(I_AAt)"
   ]
  },
  {
   "cell_type": "code",
   "execution_count": 5,
   "metadata": {},
   "outputs": [
    {
     "data": {
      "image/png": "[encoded data removed]",
      "text/plain": [
       "<Figure size 640x480 with 7 Axes>"
      ]
     },
     "metadata": {},
     "output_type": "display_data"
    }
   ],
   "source": [
    "## show images\n",
    "plt.subplot(331)\n",
    "plt.imshow(A), plt.axis('off')\n",
    "plt.title('A')\n",
    "\n",
    "plt.subplot(332)\n",
    "plt.imshow(AtA), plt.axis('off')\n",
    "plt.title('A$^T$A')\n",
    "\n",
    "plt.subplot(333)\n",
    "plt.imshow(AAt), plt.axis('off')\n",
    "plt.title('AA$^T$')\n",
    "\n",
    "plt.subplot(335)\n",
    "plt.imshow(Aleft), plt.axis('off')\n",
    "plt.title('$(A^TA)^{-1}A^T$')\n",
    "\n",
    "plt.subplot(336)\n",
    "plt.imshow(Aright), plt.axis('off')\n",
    "plt.title('$A^T(AA^T)^{-1}$')\n",
    "\n",
    "plt.subplot(338)\n",
    "plt.imshow(I_left), plt.axis('off')\n",
    "plt.title('[ $(A^TA)^{-1}A^T ]$  A')\n",
    "\n",
    "plt.subplot(339)\n",
    "plt.imshow(I_right), plt.axis('off')\n",
    "plt.title('A  [ $A^T(AA^T)^{-1}$ ]')\n",
    "\n",
    "plt.show()"
   ]
  }
 ],
 "metadata": {
  "kernelspec": {
   "display_name": "base",
   "language": "python",
   "name": "python3"
  },
  "language_info": {
   "codemirror_mode": {
    "name": "ipython",
    "version": 3
   },
   "file_extension": ".py",
   "mimetype": "text/x-python",
   "name": "python",
   "nbconvert_exporter": "python",
   "pygments_lexer": "ipython3",
   "version": "3.11.7"
  }
 },
 "nbformat": 4,
 "nbformat_minor": 2
}
