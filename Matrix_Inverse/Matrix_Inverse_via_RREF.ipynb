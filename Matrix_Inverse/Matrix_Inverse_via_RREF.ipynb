{
 "cells": [
  {
   "cell_type": "code",
   "execution_count": 1,
   "metadata": {},
   "outputs": [],
   "source": [
    "import numpy as np\n",
    "from sympy import *\n",
    "import matplotlib.pyplot as plt"
   ]
  },
  {
   "cell_type": "code",
   "execution_count": 2,
   "metadata": {},
   "outputs": [
    {
     "name": "stdout",
     "output_type": "stream",
     "text": [
      "Size of Aaug: (4, 8)\n"
     ]
    }
   ],
   "source": [
    "# matrix size\n",
    "m = 4\n",
    "\n",
    "# random integers matrix\n",
    "A = Matrix( np.round(10*np.random.randn(m,m)),dtype='float' )\n",
    "\n",
    "# augment A and identity\n",
    "Aaug = Matrix( np.concatenate((A,np.eye(m,m)),axis=1) )\n",
    "print('Size of Aaug:',Aaug.shape)\n",
    "\n",
    "# rref\n",
    "Asol = Aaug.rref()\n",
    "Asol = Asol[0]\n",
    "Ainvrref = Asol[:,m:m*2]\n",
    "Ainv = A.inv()"
   ]
  },
  {
   "cell_type": "code",
   "execution_count": 3,
   "metadata": {},
   "outputs": [
    {
     "data": {
      "image/png": "[encoded data removed]",
      "text/plain": [
       "<Figure size 640x480 with 2 Axes>"
      ]
     },
     "metadata": {},
     "output_type": "display_data"
    }
   ],
   "source": [
    "# show the augemented matrices\n",
    "plt.subplot(211)\n",
    "plt.imshow(matrix2numpy(Aaug,dtype='float'),vmin=-5,vmax=5)\n",
    "plt.title('A|I'), plt.axis('off')\n",
    "\n",
    "plt.subplot(212)\n",
    "plt.imshow(matrix2numpy(Asol,dtype='float'))\n",
    "plt.title('I|A$^{-1}$'), plt.axis('off')\n",
    "\n",
    "plt.show()"
   ]
  },
  {
   "cell_type": "code",
   "execution_count": 4,
   "metadata": {},
   "outputs": [
    {
     "data": {
      "image/png": "[encoded data removed]",
      "text/plain": [
       "<Figure size 640x480 with 3 Axes>"
      ]
     },
     "metadata": {},
     "output_type": "display_data"
    }
   ],
   "source": [
    "# show the square matrices\n",
    "plt.subplot(131)\n",
    "plt.imshow(matrix2numpy(A,dtype='float'))\n",
    "plt.title('Matrix A'), plt.axis('off')\n",
    "\n",
    "plt.subplot(132)\n",
    "plt.imshow(matrix2numpy(Ainvrref,dtype='float'))\n",
    "plt.title('A$^{-1}$ from rref'), plt.axis('off')\n",
    "\n",
    "plt.subplot(133)\n",
    "plt.imshow(matrix2numpy(Ainv,dtype='float'))\n",
    "plt.title('A$^{-1}$ from inv()'), plt.axis('off')\n",
    "\n",
    "plt.show()"
   ]
  }
 ],
 "metadata": {
  "kernelspec": {
   "display_name": "base",
   "language": "python",
   "name": "python3"
  },
  "language_info": {
   "codemirror_mode": {
    "name": "ipython",
    "version": 3
   },
   "file_extension": ".py",
   "mimetype": "text/x-python",
   "name": "python",
   "nbconvert_exporter": "python",
   "pygments_lexer": "ipython3",
   "version": "3.11.7"
  }
 },
 "nbformat": 4,
 "nbformat_minor": 2
}
