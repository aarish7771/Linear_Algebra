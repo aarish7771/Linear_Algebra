{
 "cells": [
  {
   "cell_type": "code",
   "execution_count": null,
   "metadata": {},
   "outputs": [],
   "source": [
    "# Code Challenge : Matrix Multiplication Persepectives"
   ]
  },
  {
   "cell_type": "code",
   "execution_count": null,
   "metadata": {},
   "outputs": [],
   "source": [
    "# implement matrix multiplication via layers\n",
    "\n",
    "# generate two matrices (A, B)\n",
    "\n",
    "# build the product matrix using layer-wise (for-loop)\n",
    "\n",
    "# implement the matrix multiplication directly\n",
    "\n",
    "# compare the matrix"
   ]
  },
  {
   "cell_type": "code",
   "execution_count": 1,
   "metadata": {},
   "outputs": [
    {
     "name": "stdout",
     "output_type": "stream",
     "text": [
      "[[ 0.36813215  0.23739859 -0.5503616 ]\n",
      " [-3.43661792  3.40935957 -1.63706922]\n",
      " [ 2.8532178  -1.92458668 -1.44600521]]\n",
      "[[ 0.36813215  0.23739859 -0.5503616 ]\n",
      " [-3.43661792  3.40935957 -1.63706922]\n",
      " [ 2.8532178  -1.92458668 -1.44600521]]\n",
      "[[ 0.00000000e+00  0.00000000e+00  0.00000000e+00]\n",
      " [-4.44089210e-16  0.00000000e+00  2.22044605e-16]\n",
      " [ 0.00000000e+00  0.00000000e+00  0.00000000e+00]]\n"
     ]
    }
   ],
   "source": [
    "import numpy as np\n",
    "\n",
    "m = 3\n",
    "n = 4\n",
    "\n",
    "A = np.random.randn(m,n)\n",
    "B = np.random.randn(n,m)\n",
    "\n",
    "C1 = np.zeros((m,m))\n",
    "\n",
    "for i in range(n):\n",
    "    C1 = C1 + np.outer(A[:,i], B[i,:])\n",
    "\n",
    "print(C1)\n",
    "\n",
    "C2 = A@B\n",
    "print(C2)\n",
    "\n",
    "print(C1-C2)\n"
   ]
  }
 ],
 "metadata": {
  "kernelspec": {
   "display_name": "Python 3",
   "language": "python",
   "name": "python3"
  },
  "language_info": {
   "codemirror_mode": {
    "name": "ipython",
    "version": 3
   },
   "file_extension": ".py",
   "mimetype": "text/x-python",
   "name": "python",
   "nbconvert_exporter": "python",
   "pygments_lexer": "ipython3",
   "version": "3.11.7"
  }
 },
 "nbformat": 4,
 "nbformat_minor": 2
}
