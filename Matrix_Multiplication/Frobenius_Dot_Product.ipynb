{
 "cells": [
  {
   "cell_type": "code",
   "execution_count": 1,
   "metadata": {},
   "outputs": [],
   "source": [
    "import numpy as np"
   ]
  },
  {
   "cell_type": "code",
   "execution_count": 2,
   "metadata": {},
   "outputs": [
    {
     "name": "stdout",
     "output_type": "stream",
     "text": [
      "-1.6256529746641393\n",
      "-1.6256529746641388\n"
     ]
    }
   ],
   "source": [
    "# any matrix sizes\n",
    "m = 7\n",
    "n = 4\n",
    "\n",
    "# but the two matrices must be the same size\n",
    "A = np.random.randn(m,n)\n",
    "B = np.random.randn(m,n)\n",
    "\n",
    "# first vectorize, then vector-dot-product\n",
    "Av = np.reshape( A,m*n, order='F' ) # order='F' reshapes by columns instead of by rows\n",
    "Bv = np.reshape( B,m*n, order='F' )\n",
    "frob_dp = np.dot( Av,Bv )\n",
    "\n",
    "# trace method\n",
    "frob_dp2 = np.trace( A.T@B )\n",
    "print(frob_dp2)\n",
    "print(frob_dp)"
   ]
  },
  {
   "cell_type": "code",
   "execution_count": 3,
   "metadata": {},
   "outputs": [
    {
     "name": "stdout",
     "output_type": "stream",
     "text": [
      "5.766246944615286\n",
      "5.766246944615287\n"
     ]
    }
   ],
   "source": [
    "# matrix norm\n",
    "Anorm  = np.linalg.norm(A,'fro')\n",
    "Anorm2 = np.sqrt( np.trace( A.T@A ) )\n",
    "print(Anorm)\n",
    "print(Anorm2)"
   ]
  }
 ],
 "metadata": {
  "kernelspec": {
   "display_name": "base",
   "language": "python",
   "name": "python3"
  },
  "language_info": {
   "codemirror_mode": {
    "name": "ipython",
    "version": 3
   },
   "file_extension": ".py",
   "mimetype": "text/x-python",
   "name": "python",
   "nbconvert_exporter": "python",
   "pygments_lexer": "ipython3",
   "version": "3.11.7"
  }
 },
 "nbformat": 4,
 "nbformat_minor": 2
}
