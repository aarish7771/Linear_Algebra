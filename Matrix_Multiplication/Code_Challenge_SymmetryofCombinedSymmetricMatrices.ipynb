{
 "cells": [
  {
   "cell_type": "code",
   "execution_count": null,
   "metadata": {},
   "outputs": [],
   "source": [
    "# Code Challenge - Symmetry of combined symmetric matrices"
   ]
  },
  {
   "cell_type": "code",
   "execution_count": 2,
   "metadata": {},
   "outputs": [
    {
     "name": "stdout",
     "output_type": "stream",
     "text": [
      "[[0 0 0]\n",
      " [0 0 0]\n",
      " [0 0 0]]\n",
      "[[  0 -67 -93]\n",
      " [ 67   0 -20]\n",
      " [ 93  20   0]]\n",
      "[[0 0 0]\n",
      " [0 0 0]\n",
      " [0 0 0]]\n"
     ]
    }
   ],
   "source": [
    "import numpy as np\n",
    "\n",
    "# Create two symmetric matrices\n",
    "\n",
    "A = np.array([[1 , 2, 3], [2, 4, 5], [3, 5, 6]])\n",
    "B = np.array([[7, 8, 9], [8, 5, 2], [9, 2, 3]])\n",
    "\n",
    "# Compute Sum, Multiplication, and Hadamard Multiplication of the two matrices\n",
    "Sum = A+B\n",
    "Multi = A@B\n",
    "Hada = A*B\n",
    "\n",
    "# Determine whether the result is a symmetric matrix or not\n",
    "print(Sum-Sum.T)\n",
    "print(Multi-Multi.T)\n",
    "print(Hada-Hada.T)"
   ]
  }
 ],
 "metadata": {
  "kernelspec": {
   "display_name": "base",
   "language": "python",
   "name": "python3"
  },
  "language_info": {
   "codemirror_mode": {
    "name": "ipython",
    "version": 3
   },
   "file_extension": ".py",
   "mimetype": "text/x-python",
   "name": "python",
   "nbconvert_exporter": "python",
   "pygments_lexer": "ipython3",
   "version": "3.11.7"
  }
 },
 "nbformat": 4,
 "nbformat_minor": 2
}
