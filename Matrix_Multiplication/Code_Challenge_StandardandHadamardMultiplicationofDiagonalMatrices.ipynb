{
 "cells": [
  {
   "cell_type": "code",
   "execution_count": null,
   "metadata": {},
   "outputs": [],
   "source": [
    "# Code Challenge - Standard and Hadamard Multiplication of Diagonal Matrices"
   ]
  },
  {
   "cell_type": "code",
   "execution_count": 4,
   "metadata": {},
   "outputs": [
    {
     "name": "stdout",
     "output_type": "stream",
     "text": [
      "[[ 15.   1.   1.   0.]\n",
      " [-14. -30. -11.   5.]\n",
      " [ 23.  -6.  -6.   4.]\n",
      " [  3.  15.  -6. -12.]]\n",
      " \n",
      "[[2 0 0 0]\n",
      " [0 4 0 0]\n",
      " [0 0 6 0]\n",
      " [0 0 0 8]]\n",
      " \n",
      "[[ 234.  -21.   -2.    9.]\n",
      " [ -28. 1027.  352. -254.]\n",
      " [ 303.  299.  101. -102.]\n",
      " [-339. -591.  -54.  195.]]\n",
      " \n",
      "[[225.   1.   1.   0.]\n",
      " [196. 900. 121.  25.]\n",
      " [529.  36.  36.  16.]\n",
      " [  9. 225.  36. 144.]]\n",
      " \n",
      "[[ 4  0  0  0]\n",
      " [ 0 16  0  0]\n",
      " [ 0  0 36  0]\n",
      " [ 0  0  0 64]]\n",
      " \n",
      "[[ 4  0  0  0]\n",
      " [ 0 16  0  0]\n",
      " [ 0  0 36  0]\n",
      " [ 0  0  0 64]]\n"
     ]
    }
   ],
   "source": [
    "import numpy as np\n",
    "\n",
    "# Create two matrices (4x4) : \"Full\" and \"Diagonal\"\n",
    "\n",
    "A = np.round(10*np.random.randn(4, 4))\n",
    "B = np.diag([2, 4, 6, 8])\n",
    "print(A)\n",
    "print(\" \")\n",
    "print(B)\n",
    "print(\" \")\n",
    "\n",
    "# Multiply each matrix by itself : Standard and Hadamard Multiplication\n",
    "\n",
    "AAst = A@A\n",
    "AAHa = A*A\n",
    "BBst = B@B\n",
    "BBHa = B*B\n",
    "\n",
    "print(AAst)\n",
    "print(\" \")\n",
    "print(AAHa)\n",
    "print(\" \")\n",
    "print(BBst)\n",
    "print(\" \")\n",
    "print(BBHa)"
   ]
  }
 ],
 "metadata": {
  "kernelspec": {
   "display_name": "base",
   "language": "python",
   "name": "python3"
  },
  "language_info": {
   "codemirror_mode": {
    "name": "ipython",
    "version": 3
   },
   "file_extension": ".py",
   "mimetype": "text/x-python",
   "name": "python",
   "nbconvert_exporter": "python",
   "pygments_lexer": "ipython3",
   "version": "3.11.7"
  }
 },
 "nbformat": 4,
 "nbformat_minor": 2
}
