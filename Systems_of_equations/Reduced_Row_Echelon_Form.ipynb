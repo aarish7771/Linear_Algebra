{
 "cells": [
  {
   "cell_type": "code",
   "execution_count": null,
   "metadata": {},
   "outputs": [],
   "source": [
    "import numpy as np\n",
    "import matplotlib.pyplot as plt\n",
    "import math\n",
    "from mpl_toolkits.mplot3d import Axes3D\n",
    "from IPython import display\n",
    "import time\n",
    "from sympy import *"
   ]
  },
  {
   "cell_type": "code",
   "execution_count": null,
   "metadata": {},
   "outputs": [],
   "source": [
    "# make some random matrices (using sympy package)\n",
    "A = Matrix( np.random.randn(4,4) )\n",
    "B = Matrix( np.random.randn(4,3) )\n",
    "\n",
    "# compute RREF\n",
    "rrefA = A.rref()\n",
    "rrefB = B.rref()\n",
    "\n",
    "# print out the matrix and its rref\n",
    "print(np.array(rrefA[0]))\n",
    "print(' ')\n",
    "print(np.array(rrefB[0]))\n"
   ]
  }
 ],
 "metadata": {
  "language_info": {
   "name": "python"
  }
 },
 "nbformat": 4,
 "nbformat_minor": 2
}
