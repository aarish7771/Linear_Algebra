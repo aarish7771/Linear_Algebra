{
 "cells": [
  {
   "cell_type": "markdown",
   "metadata": {},
   "source": [
    "# Code Challenge - RREF of Various Matrices "
   ]
  },
  {
   "cell_type": "code",
   "execution_count": 1,
   "metadata": {},
   "outputs": [],
   "source": [
    "import numpy as np\n",
    "from sympy import *"
   ]
  },
  {
   "cell_type": "code",
   "execution_count": 2,
   "metadata": {},
   "outputs": [
    {
     "name": "stdout",
     "output_type": "stream",
     "text": [
      "[[1 0 0 0 0 0 0]\n",
      " [0 1 0 0 0 0 0]\n",
      " [0 0 1 0 0 0 0]\n",
      " [0 0 0 1 0 0 0]\n",
      " [0 0 0 0 1 0 0]\n",
      " [0 0 0 0 0 1 0]\n",
      " [0 0 0 0 0 0 1]]\n",
      " \n",
      "[[1 0 0 0 0]\n",
      " [0 1 0 0 0]\n",
      " [0 0 1 0 0]\n",
      " [0 0 0 1 0]\n",
      " [0 0 0 0 1]\n",
      " [0 0 0 0 0]\n",
      " [0 0 0 0 0]]\n",
      " \n",
      "[[1 0 0 0 0 -0.972160582358147 -0.204786031341552]\n",
      " [0 1 0 0 0 1.54782957727979 -0.168516297303204]\n",
      " [0 0 1 0 0 -0.668826988401669 -1.08901584538460]\n",
      " [0 0 0 1 0 -0.796958224942700 1.29105897071144]\n",
      " [0 0 0 0 1 1.12826306484853 0.0918916883832788]]\n",
      " \n",
      "[[1 0 0 0 0 0 0]\n",
      " [0 1 1.00000000000000 0 0 0 0]\n",
      " [0 0 0 1 0 0 0]\n",
      " [0 0 0 0 1 0 0]\n",
      " [0 0 0 0 0 1 0]\n",
      " [0 0 0 0 0 0 1]\n",
      " [0 0 0 0 0 0 0]]\n"
     ]
    }
   ],
   "source": [
    "m = 7\n",
    "n = 5\n",
    "\n",
    "# Square Matrix\n",
    "\n",
    "Sq = Matrix(np.random.randn(m, m))\n",
    "\n",
    "# Rectangular Matrix (Tall, Wide)\n",
    "\n",
    "RT = Matrix(np.random.randn(m, n))\n",
    "RW = Matrix(np.random.randn(n, m))\n",
    "\n",
    "# RREF Calculations\n",
    "\n",
    "rrefSq = Sq.rref()\n",
    "rrefRT = RT.rref()\n",
    "rrefRW = RW.rref()\n",
    "\n",
    "# Linear Dependencies (Columns, Rows)\n",
    "\n",
    "LDSq = Sq\n",
    "LDSq[:, 1] = LDSq[:, 2]\n",
    "rrefLDSq = LDSq.rref()\n",
    "\n",
    "\n",
    "print(np.array(rrefSq[0]))\n",
    "print(\" \")\n",
    "print(np.array(rrefRT[0]))\n",
    "print(\" \")\n",
    "print(np.array(rrefRW[0]))\n",
    "print(\" \")\n",
    "print(np.array(rrefLDSq[0]))"
   ]
  }
 ],
 "metadata": {
  "kernelspec": {
   "display_name": "base",
   "language": "python",
   "name": "python3"
  },
  "language_info": {
   "codemirror_mode": {
    "name": "ipython",
    "version": 3
   },
   "file_extension": ".py",
   "mimetype": "text/x-python",
   "name": "python",
   "nbconvert_exporter": "python",
   "pygments_lexer": "ipython3",
   "version": "3.11.7"
  }
 },
 "nbformat": 4,
 "nbformat_minor": 2
}
