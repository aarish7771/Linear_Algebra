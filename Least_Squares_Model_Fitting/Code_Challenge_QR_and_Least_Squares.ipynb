{
 "cells": [
  {
   "cell_type": "markdown",
   "metadata": {},
   "source": [
    "# Code Challenge - QR and Least Squares"
   ]
  },
  {
   "cell_type": "code",
   "execution_count": 1,
   "metadata": {},
   "outputs": [],
   "source": [
    "import numpy as np"
   ]
  },
  {
   "cell_type": "code",
   "execution_count": 3,
   "metadata": {},
   "outputs": [
    {
     "name": "stdout",
     "output_type": "stream",
     "text": [
      "[[-0.57961076  0.40750547 -1.56876847]\n",
      " [-1.40764492  0.63850444 -0.67921253]\n",
      " [ 0.16320975  0.29692506  0.60191053]\n",
      " [ 0.09698493 -0.95106481  2.35075362]\n",
      " [-0.53183944 -1.49533144  1.92408568]\n",
      " [-1.55247531 -1.92069644 -1.3062157 ]\n",
      " [-0.12518708  0.18525242  2.25164876]\n",
      " [ 0.68306852 -1.39924661 -0.09271782]\n",
      " [ 1.41755699  0.07996494  0.53318221]\n",
      " [-1.25554572  0.11996329 -0.52535002]]\n",
      " \n",
      "[[ 1.08123688]\n",
      " [ 0.18564766]\n",
      " [-1.11305777]\n",
      " [ 0.367558  ]\n",
      " [-0.14719329]\n",
      " [ 0.74844401]\n",
      " [ 0.63307869]\n",
      " [ 1.28730439]\n",
      " [ 0.67325502]\n",
      " [-0.97139586]]\n",
      " \n",
      "[[ 0.23413898]\n",
      " [-0.40969527]\n",
      " [-0.14755476]]\n",
      " \n",
      "[[ 0.23413898]\n",
      " [-0.40969527]\n",
      " [-0.14755476]]\n"
     ]
    }
   ],
   "source": [
    "# Generate random data (design matrix X, data y)\n",
    "\n",
    "m = 10\n",
    "n = 3\n",
    "\n",
    "X = np.random.randn(10,3)\n",
    "y = np.random.randn(10,1)\n",
    "print(X)\n",
    "print(\" \")\n",
    "print(y)\n",
    "print(\" \")\n",
    "\n",
    "# Solve for beta using QR decomposition\n",
    "\n",
    "Q, R = np.linalg.qr(X)\n",
    "beta1 = np.linalg.solve(R.T@R, (Q@R).T@y)\n",
    "\n",
    "# Compare the QR results with the standard \"left-inverse\" method\n",
    "beta2 = np.linalg.solve(X.T@X, X.T@y)\n",
    "beta2 = np.linalg.lstsq(X, y, rcond=None)[0]\n",
    "\n",
    "print(beta1)\n",
    "print(\" \")\n",
    "print(beta2)"
   ]
  }
 ],
 "metadata": {
  "kernelspec": {
   "display_name": "base",
   "language": "python",
   "name": "python3"
  },
  "language_info": {
   "codemirror_mode": {
    "name": "ipython",
    "version": 3
   },
   "file_extension": ".py",
   "mimetype": "text/x-python",
   "name": "python",
   "nbconvert_exporter": "python",
   "pygments_lexer": "ipython3",
   "version": "3.11.7"
  }
 },
 "nbformat": 4,
 "nbformat_minor": 2
}
