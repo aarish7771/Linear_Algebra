{
 "cells": [
  {
   "cell_type": "code",
   "execution_count": 1,
   "metadata": {},
   "outputs": [],
   "source": [
    "import numpy as np\n",
    "import matplotlib.pyplot as plt\n",
    "from sympy import *"
   ]
  },
  {
   "cell_type": "code",
   "execution_count": 2,
   "metadata": {},
   "outputs": [
    {
     "data": {
      "text/plain": [
       "(10, 1)"
      ]
     },
     "execution_count": 2,
     "metadata": {},
     "output_type": "execute_result"
    }
   ],
   "source": [
    "m = 10\n",
    "n = 3\n",
    "\n",
    "# create data\n",
    "X = np.random.randn(m,n) # \"design matrix\"\n",
    "y = np.random.randn(m,1) # \"outcome measures (data)\"\n",
    "\n",
    "np.shape(y)"
   ]
  },
  {
   "cell_type": "code",
   "execution_count": 3,
   "metadata": {},
   "outputs": [
    {
     "name": "stdout",
     "output_type": "stream",
     "text": [
      "(Matrix([\n",
      "[1, 0, 0, 0],\n",
      "[0, 1, 0, 0],\n",
      "[0, 0, 1, 0],\n",
      "[0, 0, 0, 1],\n",
      "[0, 0, 0, 0],\n",
      "[0, 0, 0, 0],\n",
      "[0, 0, 0, 0],\n",
      "[0, 0, 0, 0],\n",
      "[0, 0, 0, 0],\n",
      "[0, 0, 0, 0]]), (0, 1, 2, 3))\n"
     ]
    }
   ],
   "source": [
    "# try directly applying RREF\n",
    "Xy = Matrix( np.concatenate([X,y],axis=1) )\n",
    "print( Xy.rref() )"
   ]
  },
  {
   "cell_type": "code",
   "execution_count": 4,
   "metadata": {},
   "outputs": [
    {
     "name": "stdout",
     "output_type": "stream",
     "text": [
      "[[1 0 0 0.179708899983792]\n",
      " [0 1 0 -0.272724845920517]\n",
      " [0 0 1 -0.0788072221450424]]\n",
      " \n",
      "Matrix([[0.179708899983792], [-0.272724845920517], [-0.0788072221450424]])\n",
      " \n",
      "[[ 0.1797089 ]\n",
      " [-0.27272485]\n",
      " [-0.07880722]]\n",
      " \n",
      "[[ 0.1797089 ]\n",
      " [-0.27272485]\n",
      " [-0.07880722]]\n"
     ]
    }
   ],
   "source": [
    "# now reapply to the normal equations\n",
    "XtX = X.T@X\n",
    "Xty = X.T@y\n",
    "normEQ = Matrix( np.concatenate( [XtX,Xty],axis=1 ) )\n",
    "\n",
    "Xsol = normEQ.rref()\n",
    "Xsol = Xsol[0]\n",
    "beta = Xsol[:,-1]\n",
    "\n",
    "print(np.array(Xsol)), print(' ')\n",
    "print(beta), print(' ')\n",
    "\n",
    "# compare to left-inverse\n",
    "beta2 = np.linalg.inv(XtX) @ Xty\n",
    "print(beta2), print(' ')\n",
    "\n",
    "# and with the python solver\n",
    "beta3 = np.linalg.solve(XtX,Xty)\n",
    "print(beta3)"
   ]
  }
 ],
 "metadata": {
  "kernelspec": {
   "display_name": "base",
   "language": "python",
   "name": "python3"
  },
  "language_info": {
   "codemirror_mode": {
    "name": "ipython",
    "version": 3
   },
   "file_extension": ".py",
   "mimetype": "text/x-python",
   "name": "python",
   "nbconvert_exporter": "python",
   "pygments_lexer": "ipython3",
   "version": "3.11.7"
  }
 },
 "nbformat": 4,
 "nbformat_minor": 2
}
