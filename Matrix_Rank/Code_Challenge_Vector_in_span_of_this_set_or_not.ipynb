{
 "cells": [
  {
   "cell_type": "markdown",
   "metadata": {},
   "source": [
    "# Code Challenge: Is this vector in the span of this set?"
   ]
  },
  {
   "cell_type": "code",
   "execution_count": 4,
   "metadata": {},
   "outputs": [
    {
     "name": "stdout",
     "output_type": "stream",
     "text": [
      "[[4 0]\n",
      " [3 4]\n",
      " [6 0]\n",
      " [2 1]]\n",
      "[[4 0 1]\n",
      " [3 4 2]\n",
      " [6 0 3]\n",
      " [2 1 4]]\n",
      "2\n",
      "3\n",
      "2\n",
      "2\n"
     ]
    }
   ],
   "source": [
    "import numpy as np\n",
    "\n",
    "# determine whether this vector\n",
    "\n",
    "v = np.array([[1, 2, 3, 4]]).T\n",
    "# print(v)\n",
    "\n",
    "# is in the span of these sets\n",
    "\n",
    "S = np.vstack(([4, 3, 6, 2], [0, 4, 0, 1])).T\n",
    "T = np.vstack(([1, 2, 2, 2], [0, 0, 1, 2])).T\n",
    "print(S)\n",
    "# print(T)\n",
    "\n",
    "Sv = np.concatenate((S, v), axis = 1)\n",
    "Tv = np.concatenate((T, v), axis = 1)\n",
    "print(Sv)\n",
    "\n",
    "print(np.linalg.matrix_rank(S))\n",
    "print(np.linalg.matrix_rank(Sv))\n",
    "print(np.linalg.matrix_rank(T))\n",
    "print(np.linalg.matrix_rank(Tv))"
   ]
  }
 ],
 "metadata": {
  "kernelspec": {
   "display_name": "base",
   "language": "python",
   "name": "python3"
  },
  "language_info": {
   "codemirror_mode": {
    "name": "ipython",
    "version": 3
   },
   "file_extension": ".py",
   "mimetype": "text/x-python",
   "name": "python",
   "nbconvert_exporter": "python",
   "pygments_lexer": "ipython3",
   "version": "3.11.7"
  }
 },
 "nbformat": 4,
 "nbformat_minor": 2
}
