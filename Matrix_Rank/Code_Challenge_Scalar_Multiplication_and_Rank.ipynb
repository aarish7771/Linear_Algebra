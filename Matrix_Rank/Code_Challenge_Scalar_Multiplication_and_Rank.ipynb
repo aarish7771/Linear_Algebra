{
 "cells": [
  {
   "cell_type": "markdown",
   "metadata": {},
   "source": [
    "# Code Challenge: Scalar Multiplication and Rank"
   ]
  },
  {
   "cell_type": "code",
   "execution_count": 7,
   "metadata": {},
   "outputs": [
    {
     "name": "stdout",
     "output_type": "stream",
     "text": [
      "4\n",
      "3\n",
      "4\n",
      "3\n",
      "False\n"
     ]
    }
   ],
   "source": [
    "# Test whether the matrix rank is invariant to scalar multiplication\n",
    "\n",
    "# Create two matrices: Full-rank and Reduced-rank (random)\n",
    "\n",
    "import numpy as np\n",
    "\n",
    "F = np.random.randn(7, 4)\n",
    "R = np.random.randn(7, 4)\n",
    "R[:,-1] = R[:,-2]  \n",
    "\n",
    "# Create a scalar (lambda)\n",
    "\n",
    "l = 3\n",
    "\n",
    "# Print the rank of F, R, l*F, l*R\n",
    "\n",
    "print(np.linalg.matrix_rank(F))\n",
    "print(np.linalg.matrix_rank(R))\n",
    "print(np.linalg.matrix_rank(l*F))\n",
    "print(np.linalg.matrix_rank(l*R))\n",
    "\n",
    "# Check whether rank(l*F) == l*rank(F)\n",
    "\n",
    "x = np.linalg.matrix_rank(l*F)\n",
    "y = l*np.linalg.matrix_rank(F)\n",
    "print(x==y)"
   ]
  }
 ],
 "metadata": {
  "kernelspec": {
   "display_name": "base",
   "language": "python",
   "name": "python3"
  },
  "language_info": {
   "codemirror_mode": {
    "name": "ipython",
    "version": 3
   },
   "file_extension": ".py",
   "mimetype": "text/x-python",
   "name": "python",
   "nbconvert_exporter": "python",
   "pygments_lexer": "ipython3",
   "version": "3.11.7"
  }
 },
 "nbformat": 4,
 "nbformat_minor": 2
}
