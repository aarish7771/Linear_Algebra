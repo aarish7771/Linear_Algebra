{
 "cells": [
  {
   "cell_type": "markdown",
   "metadata": {},
   "source": [
    "# Code Challenge: Rank of Multiplied and Summed Matrices    "
   ]
  },
  {
   "cell_type": "code",
   "execution_count": 2,
   "metadata": {},
   "outputs": [
    {
     "name": "stdout",
     "output_type": "stream",
     "text": [
      "2\n",
      " \n",
      "2\n",
      " \n",
      "2\n",
      " \n",
      "2\n",
      " \n",
      "2\n",
      "4\n"
     ]
    }
   ],
   "source": [
    "import numpy as np\n",
    "\n",
    "# Rules: rank of AB <= min(rank(A), rank(B))\n",
    "#        rank of A+B <= rank(A) + rank(B)\n",
    "\n",
    "# generate two matrices (A and B) 2x5\n",
    "\n",
    "m = 2\n",
    "n = 5\n",
    "\n",
    "A = np.random.randn(m, n)\n",
    "B = np.random.randn(m, n)\n",
    "\n",
    "# compute AtA and BtB\n",
    "\n",
    "X = A.T@A\n",
    "Y = B.T@B\n",
    "\n",
    "# find their ranks\n",
    "\n",
    "print(np.linalg.matrix_rank(A))\n",
    "print(' ')\n",
    "print(np.linalg.matrix_rank(B))\n",
    "print(' ')\n",
    "\n",
    "# find the ranks of AtA and BtB\n",
    "\n",
    "r1 = np.linalg.matrix_rank(X)\n",
    "r2 = np.linalg.matrix_rank(Y)\n",
    "print(r1)\n",
    "print(' ')\n",
    "print(r2)\n",
    "print(' ')\n",
    "\n",
    "print(np.linalg.matrix_rank(X@Y))\n",
    "print(np.linalg.matrix_rank(X+Y))"
   ]
  }
 ],
 "metadata": {
  "kernelspec": {
   "display_name": "base",
   "language": "python",
   "name": "python3"
  },
  "language_info": {
   "codemirror_mode": {
    "name": "ipython",
    "version": 3
   },
   "file_extension": ".py",
   "mimetype": "text/x-python",
   "name": "python",
   "nbconvert_exporter": "python",
   "pygments_lexer": "ipython3",
   "version": "3.11.7"
  }
 },
 "nbformat": 4,
 "nbformat_minor": 2
}
