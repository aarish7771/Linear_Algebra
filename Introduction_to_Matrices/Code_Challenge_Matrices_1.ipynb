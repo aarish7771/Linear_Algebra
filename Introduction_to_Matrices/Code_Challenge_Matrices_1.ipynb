{
 "cells": [
  {
   "cell_type": "markdown",
   "metadata": {},
   "source": [
    "# Code Challenge Matrix Multiplication Linearity"
   ]
  },
  {
   "cell_type": "code",
   "execution_count": 1,
   "metadata": {},
   "outputs": [
    {
     "name": "stdout",
     "output_type": "stream",
     "text": [
      "[[-0.77354545 -1.26072495 -0.6820658   1.12671456]\n",
      " [ 0.30860428 -1.23442112  0.62363161 -0.07588723]\n",
      " [ 0.27264343  2.45808833  0.29985323  0.26296374]]\n",
      " \n",
      "[[1.7332994  0.90583011 1.00924166 0.22289428]\n",
      " [0.53936505 2.75817619 0.99247124 2.81714994]\n",
      " [1.5386302  0.74884544 1.48605562 0.10253155]]\n",
      " \n",
      "[[ 9.59753949 -3.54894842  3.27175866 13.49608834]\n",
      " [ 8.47969326 15.23755071 16.16102851 27.41262715]\n",
      " [18.11273631 32.06933768 17.85908854  3.65495294]]\n",
      " \n",
      "[[ -7.73545449 -12.60724953  -6.82065798  11.26714559]\n",
      " [  3.08604281 -12.34421122   6.23631612  -0.75887228]\n",
      " [  2.72643434  24.58088326   2.99853233   2.6296374 ]]\n",
      " \n",
      "[[17.33299398  9.05830111 10.09241664  2.22894276]\n",
      " [ 5.39365046 27.58176192  9.92471239 28.17149943]\n",
      " [15.38630197  7.48845443 14.86055621  1.02531554]]\n",
      " \n",
      "[[ 9.59753949 -3.54894842  3.27175866 13.49608834]\n",
      " [ 8.47969326 15.23755071 16.16102851 27.41262715]\n",
      " [18.11273631 32.06933768 17.85908854  3.65495294]]\n"
     ]
    }
   ],
   "source": [
    "# Check for some random MxN matrices whether s(A+B) = sA + sB\n",
    "\n",
    "import numpy as np\n",
    "\n",
    "M = 3\n",
    "N = 4\n",
    "A = np.random.randn(M, N)\n",
    "B = np.random.randn(M, N)\n",
    "s = 10\n",
    "p = s*(A+B)\n",
    "p1 = s*A\n",
    "p2 = s*B\n",
    "print(A)\n",
    "print(\" \")\n",
    "print(B)\n",
    "print(\" \")\n",
    "print(p)\n",
    "print(\" \")\n",
    "print(p1)\n",
    "print(\" \")\n",
    "print(p2)\n",
    "print(\" \")\n",
    "print(p1+p2)"
   ]
  }
 ],
 "metadata": {
  "kernelspec": {
   "display_name": "Python 3",
   "language": "python",
   "name": "python3"
  },
  "language_info": {
   "codemirror_mode": {
    "name": "ipython",
    "version": 3
   },
   "file_extension": ".py",
   "mimetype": "text/x-python",
   "name": "python",
   "nbconvert_exporter": "python",
   "pygments_lexer": "ipython3",
   "version": "3.9.7"
  }
 },
 "nbformat": 4,
 "nbformat_minor": 2
}
