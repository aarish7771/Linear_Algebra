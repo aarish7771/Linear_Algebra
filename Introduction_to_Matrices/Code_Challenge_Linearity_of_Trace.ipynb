{
 "cells": [
  {
   "cell_type": "code",
   "execution_count": null,
   "metadata": {},
   "outputs": [],
   "source": [
    "# Code Challenge Trace Operation Linearity"
   ]
  },
  {
   "cell_type": "code",
   "execution_count": null,
   "metadata": {},
   "outputs": [],
   "source": [
    "# Determine the relationship between tr(A) + tr(B) and tr(A+B)\n",
    "# Determine the relationship between tr(l*A) and l*tr(A)"
   ]
  },
  {
   "cell_type": "code",
   "execution_count": 2,
   "metadata": {},
   "outputs": [
    {
     "name": "stdout",
     "output_type": "stream",
     "text": [
      "[[ 0.47552376  2.01780786 -0.76289752  1.14115175]\n",
      " [ 0.46159956  2.26852803 -1.5467507   0.24638033]\n",
      " [ 0.28177271  0.98356962 -1.1981986   0.37489719]\n",
      " [-2.57388488 -2.42406509  0.95951086 -0.92476351]]\n",
      " \n",
      "[[ 0.65300429  1.5487698  -0.21642573  0.06907754]\n",
      " [ 0.88358089  0.31429162  0.24580617 -0.33791438]\n",
      " [ 1.67390819 -0.10842615  2.11634162 -0.08858634]\n",
      " [-0.0307246  -1.41676454 -1.23140462  1.95638048]]\n",
      " \n",
      "0.6210896845043617 5.040018011617599\n",
      " \n",
      "5.661107696121961\n",
      " \n",
      "5.661107696121961\n",
      " \n",
      "4.347627791530531\n",
      " \n",
      "4.347627791530532\n"
     ]
    }
   ],
   "source": [
    "import numpy as np\n",
    "\n",
    "A = np.random.randn(4,4)\n",
    "B = np.random.randn(4,4)\n",
    "print(A)\n",
    "print(' ')\n",
    "print(B)\n",
    "print(\" \")\n",
    "\n",
    "trA = np.trace(A)\n",
    "trB = np.trace(B)\n",
    "print(trA, trB)\n",
    "print(\" \")\n",
    "print(trA+trB)\n",
    "print(\" \")\n",
    "print(np.trace(A+B))\n",
    "print(\" \")\n",
    "\n",
    "l = 7\n",
    "print(np.trace(l*A))\n",
    "print(\" \")\n",
    "print(l*(np.trace(A)))"
   ]
  }
 ],
 "metadata": {
  "kernelspec": {
   "display_name": "Python 3",
   "language": "python",
   "name": "python3"
  },
  "language_info": {
   "codemirror_mode": {
    "name": "ipython",
    "version": 3
   },
   "file_extension": ".py",
   "mimetype": "text/x-python",
   "name": "python",
   "nbconvert_exporter": "python",
   "pygments_lexer": "ipython3",
   "version": "3.9.7"
  }
 },
 "nbformat": 4,
 "nbformat_minor": 2
}
