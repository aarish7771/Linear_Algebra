{
 "cells": [
  {
   "cell_type": "code",
   "execution_count": 10,
   "metadata": {},
   "outputs": [],
   "source": [
    "import numpy as np\n",
    "import matplotlib.pyplot as plt\n",
    "import math\n",
    "from mpl_toolkits.mplot3d import Axes3D"
   ]
  },
  {
   "cell_type": "code",
   "execution_count": 11,
   "metadata": {},
   "outputs": [
    {
     "name": "stdout",
     "output_type": "stream",
     "text": [
      "[[-0.309 -0.103  0.223 -0.358  0.316 -0.05   0.077  0.348 -0.553  0.362]]\n",
      "[[-0.309 -0.103  0.223 -0.358  0.316 -0.05   0.077  0.348 -0.553  0.362]]\n"
     ]
    }
   ],
   "source": [
    "## the goal here is to solve Ax=b for x\n",
    "\n",
    "# sizes\n",
    "m = 16\n",
    "n = 10\n",
    "\n",
    "# vector b\n",
    "c = np.random.randn(m,1)\n",
    "\n",
    "# matrix A\n",
    "A = np.random.randn(m,n)\n",
    "\n",
    "# solution using explicit inverse\n",
    "x1 = np.linalg.inv(A.T@A) @ (A.T@c)\n",
    "\n",
    "# python solution (better method)\n",
    "x2 = np.linalg.solve(A.T@A,A.T@c)\n",
    "\n",
    "# show that the results are the same\n",
    "print(np.round(x1.T,3))\n",
    "print(np.round(x2.T,3))"
   ]
  },
  {
   "cell_type": "code",
   "execution_count": 12,
   "metadata": {},
   "outputs": [
    {
     "name": "stdout",
     "output_type": "stream",
     "text": [
      "[[-0.68411671  0.68703174  1.6646938 ]]\n",
      "[[-0.88267756  0.04135151  1.57007043]]\n"
     ]
    }
   ],
   "source": [
    "## geometric perspective in R^3\n",
    "\n",
    "# matrix sizes\n",
    "m = 3\n",
    "n = 2\n",
    "\n",
    "# vector b\n",
    "b = np.random.randn(m,1)\n",
    "\n",
    "# matrix A\n",
    "A = np.random.randn(m,n)\n",
    "\n",
    "\n",
    "# solution\n",
    "x = np.linalg.solve(A.T@A,A.T@b)\n",
    "Ax = A@x\n",
    "\n",
    "print(b.T)\n",
    "print(Ax.T)"
   ]
  },
  {
   "cell_type": "code",
   "execution_count": null,
   "metadata": {},
   "outputs": [],
   "source": [
    "## plot\n",
    "\n",
    "fig = plt.figure(figsize=plt.figaspect(1))\n",
    "ax = fig.add_subplot(111, projection='3d')  # Add a 3D subplot\n",
    "\n",
    "# plot the vectors\n",
    "ax.plot([0, b[0]],[0, b[1]],[0, b[2]],'r')\n",
    "ax.plot([0, Ax[0]],[0, Ax[1]],[0, Ax[2]],'b')\n",
    "\n",
    "# plot the projection line\n",
    "ax.plot( [Ax[0][0], b[0]],\n",
    "         [Ax[1][0], b[1]],\n",
    "         [Ax[2][0], b[2]], 'g')\n",
    "\n",
    "# now draw plane\n",
    "xx, yy = np.meshgrid(np.linspace(-2,2), np.linspace(-2,2))\n",
    "cp = np.cross(A[:,0],A[:,1])\n",
    "z1 = (-cp[0]*xx - cp[1]*yy)*1./cp[2]\n",
    "ax.plot_surface(xx,yy,z1,alpha=.4)\n",
    "\n",
    "plt.show()"
   ]
  }
 ],
 "metadata": {
  "kernelspec": {
   "display_name": "base",
   "language": "python",
   "name": "python3"
  },
  "language_info": {
   "codemirror_mode": {
    "name": "ipython",
    "version": 3
   },
   "file_extension": ".py",
   "mimetype": "text/x-python",
   "name": "python",
   "nbconvert_exporter": "python",
   "pygments_lexer": "ipython3",
   "version": "3.11.7"
  }
 },
 "nbformat": 4,
 "nbformat_minor": 2
}
