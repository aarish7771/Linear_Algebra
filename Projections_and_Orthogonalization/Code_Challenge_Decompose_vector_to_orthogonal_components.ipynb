{
 "cells": [
  {
   "cell_type": "markdown",
   "metadata": {},
   "source": [
    "# Code Challenge: Decompose vector to orthogonal components"
   ]
  },
  {
   "cell_type": "code",
   "execution_count": 5,
   "metadata": {},
   "outputs": [
    {
     "name": "stdout",
     "output_type": "stream",
     "text": [
      "[2. 0.]\n",
      "[0. 3.]\n",
      "[2. 3.]\n",
      "0.0\n"
     ]
    }
   ],
   "source": [
    "import numpy as np\n",
    "import matplotlib.pyplot as plt\n",
    "\n",
    "# Vector w, to be decomposed\n",
    "\n",
    "w = np.array([2, 3])\n",
    "\n",
    "# Vector v, as reference\n",
    "\n",
    "v = np.array([4 ,0])\n",
    "\n",
    "# Compute w parallel to v\n",
    "\n",
    "beta = np.dot(v,w) / np.dot(v,v)\n",
    "w_par_v = beta*v\n",
    "print(w_par_v)\n",
    "\n",
    "# Compute w perpendicular to v\n",
    "\n",
    "w_perp_v = w - w_par_v\n",
    "print(w_perp_v)\n",
    "\n",
    "# Confirm results (algebraically sum to v, orthogonal components)\n",
    "\n",
    "print(w_perp_v + w_par_v)\n",
    "print(w_perp_v@w_par_v)"
   ]
  },
  {
   "cell_type": "code",
   "execution_count": 23,
   "metadata": {},
   "outputs": [
    {
     "data": {
      "image/png": "[encoded data removed]",
      "text/plain": [
       "<Figure size 640x480 with 1 Axes>"
      ]
     },
     "metadata": {},
     "output_type": "display_data"
    }
   ],
   "source": [
    "# Plotting the vectors\n",
    "\n",
    "plt.plot([0, w[0]],[0, w[1]],'r', linewidth = 3, label='w')\n",
    "plt.plot([0, v[0]],[0, v[1]],'b', linewidth = 2, label='v')\n",
    "plt.plot([0, w_par_v[0]],[0, w_par_v[1]],'y--', linewidth = 2, label='w$_{||v}$')\n",
    "plt.plot([0, w_perp_v[0]],[0, w_perp_v[1]],'r:', linewidth = 2, label='w$_{\\perp v}$')\n",
    "\n",
    "plt.axis('square')\n",
    "plt.grid()\n",
    "plt.legend()\n",
    "plt.axis((-5, 5, -5, 5))\n",
    "\n",
    "plt.show()"
   ]
  }
 ],
 "metadata": {
  "kernelspec": {
   "display_name": "base",
   "language": "python",
   "name": "python3"
  },
  "language_info": {
   "codemirror_mode": {
    "name": "ipython",
    "version": 3
   },
   "file_extension": ".py",
   "mimetype": "text/x-python",
   "name": "python",
   "nbconvert_exporter": "python",
   "pygments_lexer": "ipython3",
   "version": "3.11.7"
  }
 },
 "nbformat": 4,
 "nbformat_minor": 2
}
