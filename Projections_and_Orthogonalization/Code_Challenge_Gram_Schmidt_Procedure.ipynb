{
 "cells": [
  {
   "cell_type": "markdown",
   "metadata": {},
   "source": [
    "# Code Challenge: Gram-Schmidt Procedure"
   ]
  },
  {
   "cell_type": "code",
   "execution_count": 1,
   "metadata": {},
   "outputs": [],
   "source": [
    "import numpy as np\n",
    "import matplotlib.pyplot as plt"
   ]
  },
  {
   "cell_type": "code",
   "execution_count": 12,
   "metadata": {},
   "outputs": [
    {
     "name": "stdout",
     "output_type": "stream",
     "text": [
      "[[ 1.00000000e+00 -2.49800181e-16 -1.11022302e-16 -2.77555756e-17]\n",
      " [-2.49800181e-16  1.00000000e+00  2.77555756e-16 -1.94289029e-16]\n",
      " [-1.11022302e-16  2.77555756e-16  1.00000000e+00  8.32667268e-17]\n",
      " [-2.77555756e-17 -1.94289029e-16  8.32667268e-17  1.00000000e+00]]\n",
      " \n",
      "[[ 0.85572919  0.14657223 -0.49196279 -0.06493654]\n",
      " [-0.29308992 -0.01544275 -0.39978951 -0.86834796]\n",
      " [-0.39349632  0.64374074 -0.54159579  0.37071889]\n",
      " [-0.16427569 -0.75091674 -0.5521005   0.32299005]]\n",
      " \n",
      "[[-0.85572919 -0.14657223 -0.49196279  0.06493654]\n",
      " [ 0.29308992  0.01544275 -0.39978951  0.86834796]\n",
      " [ 0.39349632 -0.64374074 -0.54159579 -0.37071889]\n",
      " [ 0.16427569  0.75091674 -0.5521005  -0.32299005]]\n"
     ]
    }
   ],
   "source": [
    "# Implement the Gram-Schmidt Procedure in code\n",
    "# Create a square matrix, compute Q\n",
    "# Check Q'*Q = I\n",
    "# Check qr()\n",
    "\n",
    "m = 4\n",
    "n = 4\n",
    "A = np.random.randn(m, n)\n",
    "Q = np.zeros((m, n))\n",
    "\n",
    "for i in range(n):\n",
    "\n",
    "    # Orthogonalize the ith column wrt to the previous columns of A\n",
    "    Q[:,i] = A[:,i]\n",
    "    a = A[:,i]\n",
    "\n",
    "    for j in range(i):\n",
    "        q = Q[:,j]\n",
    "        Q[:,i] = Q[:,i] - (np.dot(a,q)/np.dot(q,q))*q\n",
    "    \n",
    "    # Normalize the ith column\n",
    "    Q[:,i] = Q[:,i]/(np.linalg.norm(Q[:,i]))\n",
    "\n",
    "print(Q.T@Q)\n",
    "print(\" \")\n",
    "\n",
    "print(Q)\n",
    "print(\" \")\n",
    "\n",
    "(Q2, R) = np.linalg.qr(A, 'complete')\n",
    "print(Q2)\n",
    "\n",
    "\n"
   ]
  },
  {
   "cell_type": "code",
   "execution_count": 13,
   "metadata": {},
   "outputs": [
    {
     "name": "stdout",
     "output_type": "stream",
     "text": [
      "[[ 1. -0. -0. -0.]\n",
      " [-0.  1.  0. -0.]\n",
      " [-0.  0.  1.  0.]\n",
      " [-0. -0.  0.  1.]]\n"
     ]
    },
    {
     "data": {
      "image/png": "[encoded data removed]",
      "text/plain": [
       "<Figure size 640x480 with 1 Axes>"
      ]
     },
     "metadata": {},
     "output_type": "display_data"
    }
   ],
   "source": [
    "print(np.round(Q.T@Q))\n",
    "plt.imshow(Q.T@Q)\n",
    "plt.show()"
   ]
  }
 ],
 "metadata": {
  "kernelspec": {
   "display_name": "base",
   "language": "python",
   "name": "python3"
  },
  "language_info": {
   "codemirror_mode": {
    "name": "ipython",
    "version": 3
   },
   "file_extension": ".py",
   "mimetype": "text/x-python",
   "name": "python",
   "nbconvert_exporter": "python",
   "pygments_lexer": "ipython3",
   "version": "3.11.7"
  }
 },
 "nbformat": 4,
 "nbformat_minor": 2
}
