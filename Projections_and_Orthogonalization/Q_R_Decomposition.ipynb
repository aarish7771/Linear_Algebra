{
 "cells": [
  {
   "cell_type": "code",
   "execution_count": 1,
   "metadata": {},
   "outputs": [],
   "source": [
    "import numpy as np\n",
    "import matplotlib.pyplot as plt"
   ]
  },
  {
   "cell_type": "code",
   "execution_count": 2,
   "metadata": {},
   "outputs": [
    {
     "name": "stdout",
     "output_type": "stream",
     "text": [
      "[[-0.70710678  0.          0.70710678]\n",
      " [-0.70710678  0.         -0.70710678]\n",
      " [-0.         -1.          0.        ]]\n",
      " \n",
      "[[-0.70710678  0.        ]\n",
      " [-0.70710678  0.        ]\n",
      " [-0.         -1.        ]]\n"
     ]
    }
   ],
   "source": [
    "# example from the slides\n",
    "\n",
    "A = [ [1,0],\n",
    "      [1,0],\n",
    "      [0,1] ]\n",
    "  \n",
    "# \"full\" QR decomposition\n",
    "Q,R = np.linalg.qr(A,'complete')\n",
    "print(Q), print(' ')\n",
    "\n",
    "# \"economy\" QR decomposition\n",
    "Q,R = np.linalg.qr(A) # is the default option in Python\n",
    "print(Q)"
   ]
  },
  {
   "cell_type": "code",
   "execution_count": 3,
   "metadata": {},
   "outputs": [
    {
     "name": "stdout",
     "output_type": "stream",
     "text": [
      "R from QR: \n",
      "[[-3.1623  0.6325 -0.3162]\n",
      " [ 0.     -1.2649  2.2136]]\n",
      "R from Q^TM: \n",
      "[[-3.1623  0.6325 -0.3162]\n",
      " [ 0.     -1.2649  2.2136]]\n"
     ]
    },
    {
     "data": {
      "text/plain": [
       "(None, None)"
      ]
     },
     "execution_count": 3,
     "metadata": {},
     "output_type": "execute_result"
    }
   ],
   "source": [
    "## another example\n",
    "\n",
    "# the to-be-decomposed matrix\n",
    "M = np.array( [ [1, 1,-2], [3,-1, 1] ] )\n",
    "\n",
    "# QR decomposition\n",
    "Q,R = np.linalg.qr(M,'complete')\n",
    "\n",
    "# notice:\n",
    "print('R from QR: '),print(np.round(R,4))\n",
    "print('R from Q^TM: '),print(np.round(Q.T@M,4))"
   ]
  },
  {
   "cell_type": "code",
   "execution_count": 4,
   "metadata": {},
   "outputs": [
    {
     "data": {
      "text/plain": [
       "[]"
      ]
     },
     "execution_count": 4,
     "metadata": {},
     "output_type": "execute_result"
    },
    {
     "data": {
      "image/png": "[encoded data removed]",
      "text/plain": [
       "<Figure size 640x480 with 1 Axes>"
      ]
     },
     "metadata": {},
     "output_type": "display_data"
    }
   ],
   "source": [
    "# plot\n",
    "colorz = 'krg'\n",
    "\n",
    "for i in range(0,np.shape(M)[1]):\n",
    "    \n",
    "    # plot original vector M\n",
    "    plt.plot([0,M[0,i]],[0,M[1,i]],colorz[i])\n",
    "    \n",
    "    # plot orthogonalized vector Q\n",
    "    if i<np.shape(Q)[1]:\n",
    "        plt.plot([0,Q[0,i]],[0,Q[1,i]],colorz[i],linestyle='--')\n",
    "    \n",
    "    # plot residual vector R\n",
    "    plt.plot([0,R[0,i]],[0,R[1,i]],colorz[i],linestyle=':')\n",
    "\n",
    "    \n",
    "plt.legend(['M$_1$','Q$_1$','R$_1$'])\n",
    "plt.axis('square')\n",
    "plt.xlim(-4,4)\n",
    "plt.ylim(-4,4)\n",
    "plt.grid(True)\n",
    "plt.plot()"
   ]
  }
 ],
 "metadata": {
  "kernelspec": {
   "display_name": "base",
   "language": "python",
   "name": "python3"
  },
  "language_info": {
   "codemirror_mode": {
    "name": "ipython",
    "version": 3
   },
   "file_extension": ".py",
   "mimetype": "text/x-python",
   "name": "python",
   "nbconvert_exporter": "python",
   "pygments_lexer": "ipython3",
   "version": "3.11.7"
  }
 },
 "nbformat": 4,
 "nbformat_minor": 2
}
