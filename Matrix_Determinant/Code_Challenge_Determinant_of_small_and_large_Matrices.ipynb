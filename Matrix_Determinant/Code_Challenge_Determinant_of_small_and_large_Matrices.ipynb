{
 "cells": [
  {
   "cell_type": "markdown",
   "metadata": {},
   "source": [
    "# Code Challenge: Determinant of small and large Matrices"
   ]
  },
  {
   "cell_type": "code",
   "execution_count": 29,
   "metadata": {},
   "outputs": [
    {
     "name": "stdout",
     "output_type": "stream",
     "text": [
      "[[-4. -4.]\n",
      " [ 1.  1.]]\n",
      "0.0\n",
      " \n",
      "[[ -5.  -5.  21.  14.  15. -13.  -3.  17.   7.   9.  17.  -0.]\n",
      " [-22. -22.  -3.   4.   6. -31. -16.  -3.  -9.  15.   0.   3.]\n",
      " [-13. -13.  -6.  -4.   7.  14.  -7. -18.  -3.  -6.   2.  11.]\n",
      " [ -2.  -2. -16.   3. -10.  -7.  -2.  -2.  -6. -13.  -9.  -6.]\n",
      " [-15. -15. -17. -23.   2. -18. -10.  -1.   3.  15. -15. -10.]\n",
      " [ 15.  15.  -6.  -3.  10.   6. -15.  -1. -10.  -5.  -1. -10.]\n",
      " [  9.   9. -14.  -7.   2. -12. -14. -19.   2.  -8.   5.   7.]\n",
      " [  5.   5.  -4.   5.  -3.  -2.  14. -13.   4. -14.   0.  -9.]\n",
      " [ -3.  -3.  18.  -5. -14.  22.   0.   0. -16.  -0.  -2.  -0.]\n",
      " [ 10.  10.  11.   1.  -2.  -5.  -1. -24.  12.  -2.  11.  13.]\n",
      " [-17. -17.   7.  -3.   9.   2.  11.  -6.   3. -10.   0.  -9.]\n",
      " [ 14.  14.  22.   1.   6.   3.  -4.  10.   7.  -7.  -9.   4.]]\n",
      "-2.0658249248594927\n"
     ]
    }
   ],
   "source": [
    "import numpy as np\n",
    "\n",
    "# singular matrices (reduced-rank matrices) have determinant equal to 0\n",
    "\n",
    "# generate a 2x2 matrix with linear dependencies\n",
    "A = np.round(10*np.random.randn(2, 2))\n",
    "A[:,1] = A[:,0]\n",
    "print(A)\n",
    "\n",
    "# compute the determinant\n",
    "x = np.linalg.det(A)\n",
    "print(x)\n",
    "print(\" \")\n",
    "\n",
    "# generate a mxm matrix with linear dependencies (with small and large m)\n",
    "m = 12\n",
    "B = np.round(10*np.random.randn(m, m))\n",
    "B[:,1] = B[:,0]\n",
    "print(B)\n",
    "\n",
    "# compute the determinant\n",
    "y = np.linalg.det(B)\n",
    "print(y)\n",
    "\n",
    "# Computer precision error causes the determinant to be larger as m increases"
   ]
  }
 ],
 "metadata": {
  "kernelspec": {
   "display_name": "base",
   "language": "python",
   "name": "python3"
  },
  "language_info": {
   "codemirror_mode": {
    "name": "ipython",
    "version": 3
   },
   "file_extension": ".py",
   "mimetype": "text/x-python",
   "name": "python",
   "nbconvert_exporter": "python",
   "pygments_lexer": "ipython3",
   "version": "3.11.7"
  }
 },
 "nbformat": 4,
 "nbformat_minor": 2
}
